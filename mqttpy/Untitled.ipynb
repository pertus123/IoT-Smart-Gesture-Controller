{
 "cells": [
  {
   "cell_type": "code",
   "execution_count": 6,
   "metadata": {
    "scrolled": true
   },
   "outputs": [
    {
     "name": "stdout",
     "output_type": "stream",
     "text": [
      "Success\n",
      "{\"Acc\":[-45.27,-57.23,86.08],\"Gy\":[-39.13,30.14,53.7],\"Flex\":[464,487,458,388]}\n",
      "{\"Acc\":[-45.75,-58.6,86.84],\"Gy\":[-39.68,30.27,53.77],\"Flex\":[479,496,464,403]}\n",
      "{\"Acc\":[-47.24,-57.25,90.2],\"Gy\":[-39.97,30.45,53.77],\"Flex\":[477,479,465,401]}\n",
      "{\"Acc\":[-48.12,-58.6,92.88],\"Gy\":[-39.88,30.48,53.71],\"Flex\":[474,482,455,389]}\n",
      "{\"Acc\":[-46.34,-57.18,90.28],\"Gy\":[-39.79,30.44,53.69],\"Flex\":[464,483,455,393]}\n",
      "{\"Acc\":[-46.37,-58.48,87.8],\"Gy\":[-39.84,30.45,53.72],\"Flex\":[474,494,467,408]}\n",
      "{\"Acc\":[-46.27,-57.08,89.44],\"Gy\":[-39.56,30.37,53.72],\"Flex\":[475,491,464,403]}\n",
      "{\"Acc\":[-47.15,-57.94,89.36],\"Gy\":[-39.48,30.37,53.74],\"Flex\":[476,495,464,405]}\n",
      "{\"Acc\":[-46.63,-58.28,89.12],\"Gy\":[-39.42,30.36,53.74],\"Flex\":[474,530,464,400]}\n",
      "{\"Acc\":[-46.27,-57.69,89.52],\"Gy\":[-39.43,30.37,53.72],\"Flex\":[474,493,464,401]}\n",
      "{\"Acc\":[-46.27,-58.52,87.32],\"Gy\":[-39.44,30.35,53.78],\"Flex\":[475,496,467,416]}\n",
      "{\"Acc\":[-46.8,-57.69,91.92],\"Gy\":[-39.71,30.46,53.71],\"Flex\":[474,528,466,403]}\n",
      "{\"Acc\":[-47.02,-57.72,90.6],\"Gy\":[-39.54,30.42,53.69],\"Flex\":[474,495,464,400]}\n",
      "{\"Acc\":[-46.88,-58.01,88.28],\"Gy\":[-39.62,30.49,53.74],\"Flex\":[464,484,454,395]}\n",
      "{\"Acc\":[-47.32,-57.96,90.32],\"Gy\":[-39.71,30.55,53.71],\"Flex\":[465,481,458,396]}\n"
     ]
    },
    {
     "ename": "KeyboardInterrupt",
     "evalue": "",
     "output_type": "error",
     "traceback": [
      "\u001b[1;31m---------------------------------------------------------------------------\u001b[0m",
      "\u001b[1;31mKeyboardInterrupt\u001b[0m                         Traceback (most recent call last)",
      "\u001b[1;32m<ipython-input-6-e2768ae5fe40>\u001b[0m in \u001b[0;36m<module>\u001b[1;34m\u001b[0m\n\u001b[0;32m     53\u001b[0m \u001b[0mclient\u001b[0m\u001b[1;33m.\u001b[0m\u001b[0msubscribe\u001b[0m\u001b[1;33m(\u001b[0m\u001b[1;34m\"test\"\u001b[0m\u001b[1;33m)\u001b[0m\u001b[1;33m\u001b[0m\u001b[1;33m\u001b[0m\u001b[0m\n\u001b[0;32m     54\u001b[0m \u001b[1;33m\u001b[0m\u001b[0m\n\u001b[1;32m---> 55\u001b[1;33m \u001b[0mclient\u001b[0m\u001b[1;33m.\u001b[0m\u001b[0mloop_forever\u001b[0m\u001b[1;33m(\u001b[0m\u001b[1;33m)\u001b[0m\u001b[1;33m\u001b[0m\u001b[1;33m\u001b[0m\u001b[0m\n\u001b[0m\u001b[0;32m     56\u001b[0m \u001b[1;33m\u001b[0m\u001b[0m\n",
      "\u001b[1;32m~\\Anaconda3\\lib\\site-packages\\paho\\mqtt\\client.py\u001b[0m in \u001b[0;36mloop_forever\u001b[1;34m(self, timeout, max_packets, retry_first_connection)\u001b[0m\n\u001b[0;32m   1576\u001b[0m             \u001b[0mrc\u001b[0m \u001b[1;33m=\u001b[0m \u001b[0mMQTT_ERR_SUCCESS\u001b[0m\u001b[1;33m\u001b[0m\u001b[1;33m\u001b[0m\u001b[0m\n\u001b[0;32m   1577\u001b[0m             \u001b[1;32mwhile\u001b[0m \u001b[0mrc\u001b[0m \u001b[1;33m==\u001b[0m \u001b[0mMQTT_ERR_SUCCESS\u001b[0m\u001b[1;33m:\u001b[0m\u001b[1;33m\u001b[0m\u001b[1;33m\u001b[0m\u001b[0m\n\u001b[1;32m-> 1578\u001b[1;33m                 \u001b[0mrc\u001b[0m \u001b[1;33m=\u001b[0m \u001b[0mself\u001b[0m\u001b[1;33m.\u001b[0m\u001b[0mloop\u001b[0m\u001b[1;33m(\u001b[0m\u001b[0mtimeout\u001b[0m\u001b[1;33m,\u001b[0m \u001b[0mmax_packets\u001b[0m\u001b[1;33m)\u001b[0m\u001b[1;33m\u001b[0m\u001b[1;33m\u001b[0m\u001b[0m\n\u001b[0m\u001b[0;32m   1579\u001b[0m                 \u001b[1;31m# We don't need to worry about locking here, because we've\u001b[0m\u001b[1;33m\u001b[0m\u001b[1;33m\u001b[0m\u001b[1;33m\u001b[0m\u001b[0m\n\u001b[0;32m   1580\u001b[0m                 \u001b[1;31m# either called loop_forever() when in single threaded mode, or\u001b[0m\u001b[1;33m\u001b[0m\u001b[1;33m\u001b[0m\u001b[1;33m\u001b[0m\u001b[0m\n",
      "\u001b[1;32m~\\Anaconda3\\lib\\site-packages\\paho\\mqtt\\client.py\u001b[0m in \u001b[0;36mloop\u001b[1;34m(self, timeout, max_packets)\u001b[0m\n\u001b[0;32m   1055\u001b[0m         \u001b[0mrlist\u001b[0m \u001b[1;33m=\u001b[0m \u001b[1;33m[\u001b[0m\u001b[0mself\u001b[0m\u001b[1;33m.\u001b[0m\u001b[0m_sock\u001b[0m\u001b[1;33m,\u001b[0m \u001b[0mself\u001b[0m\u001b[1;33m.\u001b[0m\u001b[0m_sockpairR\u001b[0m\u001b[1;33m]\u001b[0m\u001b[1;33m\u001b[0m\u001b[1;33m\u001b[0m\u001b[0m\n\u001b[0;32m   1056\u001b[0m         \u001b[1;32mtry\u001b[0m\u001b[1;33m:\u001b[0m\u001b[1;33m\u001b[0m\u001b[1;33m\u001b[0m\u001b[0m\n\u001b[1;32m-> 1057\u001b[1;33m             \u001b[0msocklist\u001b[0m \u001b[1;33m=\u001b[0m \u001b[0mselect\u001b[0m\u001b[1;33m.\u001b[0m\u001b[0mselect\u001b[0m\u001b[1;33m(\u001b[0m\u001b[0mrlist\u001b[0m\u001b[1;33m,\u001b[0m \u001b[0mwlist\u001b[0m\u001b[1;33m,\u001b[0m \u001b[1;33m[\u001b[0m\u001b[1;33m]\u001b[0m\u001b[1;33m,\u001b[0m \u001b[0mtimeout\u001b[0m\u001b[1;33m)\u001b[0m\u001b[1;33m\u001b[0m\u001b[1;33m\u001b[0m\u001b[0m\n\u001b[0m\u001b[0;32m   1058\u001b[0m         \u001b[1;32mexcept\u001b[0m \u001b[0mTypeError\u001b[0m\u001b[1;33m:\u001b[0m\u001b[1;33m\u001b[0m\u001b[1;33m\u001b[0m\u001b[0m\n\u001b[0;32m   1059\u001b[0m             \u001b[1;31m# Socket isn't correct type, in likelihood connection is lost\u001b[0m\u001b[1;33m\u001b[0m\u001b[1;33m\u001b[0m\u001b[1;33m\u001b[0m\u001b[0m\n",
      "\u001b[1;31mKeyboardInterrupt\u001b[0m: "
     ]
    }
   ],
   "source": [
    "import paho.mqtt.client as mqtt\n",
    "import subscriber as sb\n",
    "import publisher as pb\n",
    "import matplotlib.pyplot as mat\n",
    "import json\n",
    "from time import time, sleep\n",
    "\n",
    "# Initialize of MQTT Protocol\n",
    "broker_url = \"54.180.101.122\"\n",
    "# broker_url = \"localhost\"\n",
    "broker_port = 1883\n",
    "\n",
    "# MQTT 클라이언트 정의\n",
    "client = mqtt.Client(client_id=\"play\", clean_session=False, userdata=None)\n",
    "\n",
    "client.connect(broker_url, broker_port)\n",
    "\n",
    "# Rax = []\n",
    "# Ray = []\n",
    "# Raz = []\n",
    "# scale_x = []\n",
    "# scale_y = []\n",
    "# scale_z = []\n",
    "# flex1 = []\n",
    "# flex2 = []\n",
    "# flex3 = []\n",
    "# flex4 = []\n",
    "# push = []\n",
    "\n",
    "# 접속 되었을시에 호출하는 함수\n",
    "def on_connect(client, userdata, flags, rc):\n",
    "    client.publish(client, \"Hello World\")\n",
    "    print(\"Hello World\")\n",
    "    print(\"Connected With Result Code :\" + rc)\n",
    "\n",
    "# Callback 등록 (메세지 올라올때마다 함수 호출)\n",
    "def callback_data(client, userdata, message):\n",
    "    print(message.payload.decode())\n",
    "    y = message.payload.decode()\n",
    "    # x = json.loads(y)\n",
    "\n",
    "    # print(y[\"Acc\"])\n",
    "\n",
    "def callback_state(client, userdata, message):\n",
    "    callback_state = message.payload.decode()\n",
    "\n",
    "\n",
    "# To Process Every Other Message\n",
    "print(\"Success\")\n",
    "client.on_connect = on_connect\n",
    "\n",
    "client.message_callback_add(\"test\", callback_data)\n",
    "client.subscribe(\"test\")\n",
    "\n",
    "client.loop_forever()\n",
    "\n"
   ]
  },
  {
   "cell_type": "code",
   "execution_count": 166,
   "metadata": {
    "scrolled": false
   },
   "outputs": [
    {
     "name": "stdout",
     "output_type": "stream",
     "text": [
      "[deque([]), deque([]), deque([])]\n",
      "deque([])\n"
     ]
    }
   ],
   "source": [
    "import collections\n",
    "import random\n",
    "import matplotlib.pyplot as plt\n",
    "plotLength = 5\n",
    "maxPlotLength = plotLength\n",
    "numPlots = 3\n",
    "data = []\n",
    "counter = 0\n",
    "\n",
    "for i in range(numPlots):  # give an array for each type of data and store them in a list\n",
    "    data.append(collections.deque())\n",
    "\n",
    "\n",
    "print(data)\n",
    "print(data[0])"
   ]
  },
  {
   "cell_type": "code",
   "execution_count": 172,
   "metadata": {},
   "outputs": [
    {
     "name": "stdout",
     "output_type": "stream",
     "text": [
      "range(0, 500)\n"
     ]
    }
   ],
   "source": [
    "print(range(500))"
   ]
  },
  {
   "cell_type": "code",
   "execution_count": 180,
   "metadata": {
    "scrolled": true
   },
   "outputs": [
    {
     "ename": "IndexError",
     "evalue": "deque index out of range",
     "output_type": "error",
     "traceback": [
      "\u001b[1;31m---------------------------------------------------------------------------\u001b[0m",
      "\u001b[1;31mIndexError\u001b[0m                                Traceback (most recent call last)",
      "\u001b[1;32m<ipython-input-180-8f18973c7692>\u001b[0m in \u001b[0;36m<module>\u001b[1;34m\u001b[0m\n\u001b[0;32m      1\u001b[0m \u001b[1;31m# data[0].append(1)\u001b[0m\u001b[1;33m\u001b[0m\u001b[1;33m\u001b[0m\u001b[1;33m\u001b[0m\u001b[0m\n\u001b[1;32m----> 2\u001b[1;33m \u001b[0mprint\u001b[0m\u001b[1;33m(\u001b[0m\u001b[0mdata\u001b[0m\u001b[1;33m[\u001b[0m\u001b[1;36m0\u001b[0m\u001b[1;33m]\u001b[0m\u001b[1;33m[\u001b[0m\u001b[1;36m8\u001b[0m\u001b[1;33m]\u001b[0m\u001b[1;33m)\u001b[0m\u001b[1;33m\u001b[0m\u001b[1;33m\u001b[0m\u001b[0m\n\u001b[0m",
      "\u001b[1;31mIndexError\u001b[0m: deque index out of range"
     ]
    }
   ],
   "source": [
    "# data[0].append(1)\n",
    "print(data[0][8])"
   ]
  },
  {
   "cell_type": "code",
   "execution_count": 87,
   "metadata": {},
   "outputs": [
    {
     "data": {
      "text/plain": [
       "Text(0, 0.5, 'Accelerometer Output')"
      ]
     },
     "execution_count": 87,
     "metadata": {},
     "output_type": "execute_result"
    },
    {
     "data": {
      "image/png": "[encoded data removed]",
      "text/plain": [
       "<Figure size 720x576 with 1 Axes>"
      ]
     },
     "metadata": {
      "needs_background": "light"
     },
     "output_type": "display_data"
    }
   ],
   "source": [
    "xmin = 0\n",
    "xmax = maxPlotLength\n",
    "ymin = -(1)\n",
    "ymax = 1\n",
    "fig = plt.figure(figsize=(10, 8))\n",
    "# ax = plt.axes(xlim=(xmin, xmax), ylim=(float(ymin - (ymax - ymin) / 10), float(ymax + (ymax - ymin) / 10)))\n",
    "ax = plt.axes(xlim=(xmin, xmax), ylim=(float(-300), float(300)))\n",
    "ax.set_title('Senser Accelerometer')\n",
    "ax.set_xlabel(\"Time\")\n",
    "ax.set_ylabel(\"Accelerometer Output\")\n",
    "# put our plot onto Tkinter's GUI"
   ]
  },
  {
   "cell_type": "code",
   "execution_count": 137,
   "metadata": {},
   "outputs": [],
   "source": [
    "lineLabel = ['X', 'Y', 'Z']\n",
    "style = ['r-', 'c-', 'b-']  # linestyles for the different plots\n",
    "timeText = ax.text(0.70, 0.95, '', transform=ax.transAxes)\n",
    "lines = []\n",
    "lineValueText = []\n",
    "\n",
    "for i in range(numPlots):\n",
    "    lines.append(ax.plot([], [], style[i], label=lineLabel[i])[0])\n",
    "    lineValueText.append(ax.text(0.70, 0.90-i*0.05, '', transform=ax.transAxes))\n"
   ]
  },
  {
   "cell_type": "code",
   "execution_count": 145,
   "metadata": {},
   "outputs": [
    {
     "name": "stdout",
     "output_type": "stream",
     "text": [
      "Line2D(X)\n"
     ]
    }
   ],
   "source": [
    "print(ax.plot([], [], style[0], label=lineLabel[0])[0])"
   ]
  },
  {
   "cell_type": "code",
   "execution_count": 101,
   "metadata": {},
   "outputs": [],
   "source": [
    "for i in range(numPlots):  # give an array for each type of data and store them in a list\n",
    "    data.append(collections.deque([0] * plotLength, maxlen=plotLength))\n",
    "\n",
    "isRun = True\n",
    "isReceiving = False\n",
    "isGetSenserData = False\n",
    "thread = None\n",
    "plotTimer = 0\n",
    "previousTimer = 0\n",
    "counter = 0\n",
    "pltInterval = 500"
   ]
  },
  {
   "cell_type": "code",
   "execution_count": 102,
   "metadata": {},
   "outputs": [],
   "source": [
    "from tkinter.ttk import Frame\n",
    "\n",
    "class Window(Frame):\n",
    "    def __init__(self, figure, master):\n",
    "        Frame.__init__(self, master)\n",
    "        self.entry = None\n",
    "        self.setPoint = None\n",
    "        self.master = master        # a reference to the master window\n",
    "        # keep a reference to our serial connection so that we can use it for bi-directional communicate from this class\n",
    "        self.initWindow(figure)     # initialize the window with our settings\n",
    "\n",
    "    def initWindow(self, figure):\n",
    "        self.master.title(\"Real Time Plot\")\n",
    "        canvas = FigureCanvasTkAgg(figure, master=self.master)\n",
    "        toolbar = NavigationToolbar2Tk(canvas, self.master)\n",
    "        canvas.get_tk_widget().pack(side=Tk.TOP, fill=Tk.BOTH, expand=1)\n",
    "\n",
    "        # create out widgets in the master frame\n",
    "        lbl1 = Tk.Label(self.master, text=\"Scaling Factor\")\n",
    "        lbl1.pack(padx=5, pady=5)\n",
    "        self.entry = Tk.Entry(self.master)\n",
    "        self.entry.insert(0, '1.0')  # (index, string)\n",
    "        self.entry.pack(padx=5)\n",
    "        SendButton = Tk.Button(self.master, text='Send', command=self.sendSerialData)\n",
    "        SendButton.pack(padx=5)\n",
    "\n",
    "    def sendSerialData(self):\n",
    "        print(\"send~~~~~~~~~~\")\n",
    "        # self.serialConnection.write(data.encode('utf-8'))"
   ]
  },
  {
   "cell_type": "code",
   "execution_count": 109,
   "metadata": {},
   "outputs": [],
   "source": [
    "import matplotlib.animation as animation\n",
    "import time\n",
    "previousTimer = 0\n",
    "\n",
    "def getSenserData(frame, lines, lineValueText, lineLabel, timeText, pltInterval, ax):\n",
    "    global previousTimer\n",
    "    currentTimer = time.perf_counter()\n",
    "    plotTimer = int((currentTimer - previousTimer) * 1000) # the first reading will be erroneous\n",
    "    previousTimer = currentTimer\n",
    "    timeText.set_text('Plot Interval = ' + str(plotTimer) + 'ms')\n",
    "\n",
    "    #privateData = copy.deepcopy(self.rawData[:])\n",
    "    if isGetSenserData is True:\n",
    "        try:\n",
    "            for i in range(numPlots):\n",
    "                # data = privateData[(i * self.dataNumBytes):(self.dataNumBytes + i * self.dataNumBytes)]\n",
    "                # value = struct.unpack(self.dataType, data)\n",
    "                data[i].append(random.randint(1, 300))\n",
    "\n",
    "                counter += 1\n",
    "                lines[i].set_data(range(25), data[i])\n",
    "\n",
    "                # lines[i].set_data(self.counter, self.data[i])\n",
    "                ax.set_xlim([0, counter])\n",
    "\n",
    "                lineValueText[i].set_text('[' + lineLabel[i] + '] = ' + str(data[i]))\n",
    "        except Exception as ex:\n",
    "            print(\"[Error] 데이터 불러오는데 에러가 발생했습니다 : \" + str(ex))"
   ]
  },
  {
   "cell_type": "code",
   "execution_count": 119,
   "metadata": {},
   "outputs": [
    {
     "ename": "IndexError",
     "evalue": "list index out of range",
     "output_type": "error",
     "traceback": [
      "\u001b[1;31m---------------------------------------------------------------------------\u001b[0m",
      "\u001b[1;31mIndexError\u001b[0m                                Traceback (most recent call last)",
      "\u001b[1;32m<ipython-input-119-67848e8723bf>\u001b[0m in \u001b[0;36m<module>\u001b[1;34m\u001b[0m\n\u001b[0;32m      2\u001b[0m     \u001b[1;31m# data = privateData[(i * self.dataNumBytes):(self.dataNumBytes + i * self.dataNumBytes)]\u001b[0m\u001b[1;33m\u001b[0m\u001b[1;33m\u001b[0m\u001b[1;33m\u001b[0m\u001b[0m\n\u001b[0;32m      3\u001b[0m     \u001b[1;31m# value = struct.unpack(self.dataType, data)\u001b[0m\u001b[1;33m\u001b[0m\u001b[1;33m\u001b[0m\u001b[1;33m\u001b[0m\u001b[0m\n\u001b[1;32m----> 4\u001b[1;33m     \u001b[0mdata\u001b[0m\u001b[1;33m[\u001b[0m\u001b[0mi\u001b[0m\u001b[1;33m]\u001b[0m\u001b[1;33m.\u001b[0m\u001b[0mappend\u001b[0m\u001b[1;33m(\u001b[0m\u001b[0mrandom\u001b[0m\u001b[1;33m.\u001b[0m\u001b[0mrandint\u001b[0m\u001b[1;33m(\u001b[0m\u001b[1;36m1\u001b[0m\u001b[1;33m,\u001b[0m \u001b[1;36m300\u001b[0m\u001b[1;33m)\u001b[0m\u001b[1;33m)\u001b[0m\u001b[1;33m\u001b[0m\u001b[1;33m\u001b[0m\u001b[0m\n\u001b[0m\u001b[0;32m      5\u001b[0m \u001b[1;33m\u001b[0m\u001b[0m\n\u001b[0;32m      6\u001b[0m     \u001b[0mcounter\u001b[0m \u001b[1;33m+=\u001b[0m \u001b[1;36m1\u001b[0m\u001b[1;33m\u001b[0m\u001b[1;33m\u001b[0m\u001b[0m\n",
      "\u001b[1;31mIndexError\u001b[0m: list index out of range"
     ]
    }
   ],
   "source": []
  },
  {
   "cell_type": "code",
   "execution_count": 110,
   "metadata": {},
   "outputs": [],
   "source": [
    "import tkinter as Tk\n",
    "from matplotlib.backends.backend_tkagg import FigureCanvasTkAgg, NavigationToolbar2Tk\n",
    "\n",
    "root = Tk.Tk()\n",
    "app = Window(fig, root)\n",
    "\n",
    "anim = animation.FuncAnimation(fig, getSenserData, fargs=(lines, lineValueText, lineLabel, timeText, pltInterval, ax), interval=pltInterval)\n",
    "root.mainloop()"
   ]
  },
  {
   "cell_type": "code",
   "execution_count": 114,
   "metadata": {},
   "outputs": [
    {
     "ename": "NameError",
     "evalue": "name 'data' is not defined",
     "output_type": "error",
     "traceback": [
      "\u001b[1;31m---------------------------------------------------------------------------\u001b[0m",
      "\u001b[1;31mNameError\u001b[0m                                 Traceback (most recent call last)",
      "\u001b[1;32m<ipython-input-114-dbd883db58b7>\u001b[0m in \u001b[0;36m<module>\u001b[1;34m\u001b[0m\n\u001b[1;32m----> 1\u001b[1;33m \u001b[0mprint\u001b[0m\u001b[1;33m(\u001b[0m\u001b[0mdata\u001b[0m\u001b[1;33m)\u001b[0m\u001b[1;33m\u001b[0m\u001b[1;33m\u001b[0m\u001b[0m\n\u001b[0m",
      "\u001b[1;31mNameError\u001b[0m: name 'data' is not defined"
     ]
    }
   ],
   "source": [
    "print(data)"
   ]
  },
  {
   "cell_type": "code",
   "execution_count": null,
   "metadata": {},
   "outputs": [],
   "source": []
  }
 ],
 "metadata": {
  "kernelspec": {
   "display_name": "Python 3",
   "language": "python",
   "name": "python3"
  },
  "language_info": {
   "codemirror_mode": {
    "name": "ipython",
    "version": 3
   },
   "file_extension": ".py",
   "mimetype": "text/x-python",
   "name": "python",
   "nbconvert_exporter": "python",
   "pygments_lexer": "ipython3",
   "version": "3.7.3"
  }
 },
 "nbformat": 4,
 "nbformat_minor": 2
}
